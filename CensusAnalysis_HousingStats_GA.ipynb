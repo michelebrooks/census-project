{
  "nbformat": 4,
  "nbformat_minor": 0,
  "metadata": {
    "colab": {
      "name": "CensusAnalysis_HousingStats_GA.ipynb",
      "provenance": [],
      "authorship_tag": "ABX9TyO8G8u3LNBHG1bj20CLiyGM",
      "include_colab_link": true
    },
    "kernelspec": {
      "name": "python3",
      "display_name": "Python 3"
    },
    "language_info": {
      "name": "python"
    }
  },
  "cells": [
    {
      "cell_type": "markdown",
      "metadata": {
        "id": "view-in-github",
        "colab_type": "text"
      },
      "source": [
        "<a href=\"https://colab.research.google.com/github/michelebrooks/census-project/blob/main/CensusAnalysis_HousingStats_GA.ipynb\" target=\"_parent\"><img src=\"https://colab.research.google.com/assets/colab-badge.svg\" alt=\"Open In Colab\"/></a>"
      ]
    },
    {
      "cell_type": "markdown",
      "source": [
        "Python Census Scraper for Housing Statistics in GA \n",
        "---\n",
        "** A work in progress. Est. completion August 2022**\n"
      ],
      "metadata": {
        "id": "OlT54-XUMFV-"
      }
    },
    {
      "cell_type": "code",
      "source": [
        "!pip install google-cloud-secret-manager"
      ],
      "metadata": {
        "id": "mORW6Brv6i4z"
      },
      "execution_count": null,
      "outputs": []
    },
    {
      "cell_type": "code",
      "execution_count": null,
      "metadata": {
        "id": "s_XcMiCuMAgT"
      },
      "outputs": [],
      "source": [
        "# packages for unzipping in memory\n",
        "from io import BytesIO\n",
        "from urllib.request import urlopen\n",
        "from zipfile import ZipFile\n",
        "import os.path\n",
        "\n",
        "# packages needed for census api calls\n",
        "import requests\n",
        "import pandas as pd\n",
        "import geopandas as gpd\n",
        "import shapefile\n",
        "from google.cloud import secretmanager\n",
        "\n",
        "# packages needed for transforming into nl json for BigQuery\n",
        "from io import StringIO\n",
        "import json\n",
        "import geojson"
      ]
    },
    {
      "cell_type": "code",
      "source": [
        "# Create a Client for Census API Call:\n",
        "client = secretmanager.SecretManagerServiceClient()\n",
        "secret_name = \"census-api\" \n",
        "project_id = 'tdl-freelance'\n",
        "\n",
        "resource_name = f\"projects/{project_id}/secrets/{secret_name}/versions/latest\" \n",
        "\n",
        "response = client.access_secret_version(request={\"name\": resource_name})\n",
        "secret_string = response.payload.data.decode('UTF-8')"
      ],
      "metadata": {
        "id": "fa3WqU0V6fSU"
      },
      "execution_count": null,
      "outputs": []
    },
    {
      "cell_type": "code",
      "source": [
        "# Set variables to pull from Census API\n",
        "acs_vars_dict = {'DP02_0059E': 'edu_pop25plus', # Estimate!!EDUCATIONAL ATTAINMENT!!Population 25 years and over\n",
        "                 'DP02_0067E': 'edu_pop25plus_hsPlus', #Estimate!!EDUCATIONAL ATTAINMENT!!Population 25 years and over!!High school graduate or higher\n",
        "                 'DP02_0068E': 'edu_pop25plus_baPlus', #Estimate!!EDUCATIONAL ATTAINMENT!!Population 25 years and over!!Bachelors degree or higher\n",
        "                 'DP02_0066E': 'edu_pop25plus_maPlus', #Estimate!!EDUCATIONAL ATTAINMENT!!Population 25 years and over!!Graduate or professional degree\n",
        "                 'DP02_0152E': 'total_households', #Estimate!!COMPUTERS AND INTERNET USE!!Total households\n",
        "                 'DP02_0153E': 'tech_hh_computer', #Estimate!!COMPUTERS AND INTERNET USE!!Total households!!With a computer\n",
        "                 'DP02_0154E': 'tech_hh_internetsub', #Estimate!!COMPUTERS AND INTERNET USE!!Total households!!With a broadband Internet subscription\n",
        "                 'DP03_0001E': 'emp_pop16plus', #Estimate!!EMPLOYMENT STATUS!!Population 16 years and over\n",
        "                 'DP03_0003E': 'emp_pop16plus_lf_civ', #Estimate!!EMPLOYMENT STATUS!!Population 16 years and over!!In labor force!!Civilian labor force\n",
        "                 'DP03_0004E': 'emp_pop16plus_lf_civ_employed', #Estimate!!EMPLOYMENT STATUS!!Population 16 years and over!!In labor force!!Civilian labor force!!Employed\n",
        "                 'DP03_0005E': 'emp_pop16plus_lf_civ_employed_unemployed', #Estimate!!EMPLOYMENT STATUS!!Population 16 years and over!!In labor force!!Civilian labor force!!Unemployed\n",
        "                 'DP03_0006E': 'emp_pop16plus_lf_army', #Estimate!!EMPLOYMENT STATUS!!Population 16 years and over!!In labor force!!Armed Forces\n",
        "                 'DP03_0007E': 'emp_pop16plus_notlf', #\n",
        "                 'DP03_0062E': 'income_hh_median', #Estimate!!INCOME AND BENEFITS (IN 2020 INFLATION-ADJUSTED DOLLARS)!!Total households!!Median household income (dollars)\n",
        "                 'DP03_0063E': 'income_hh_mean', #Estimate!!INCOME AND BENEFITS (IN 2020 INFLATION-ADJUSTED DOLLARS)!!Total households!!Mean household income (dollars)\n",
        "                 'DP03_0119E': 'income_hh_poverty', #Estimate!!PERCENTAGE OF FAMILIES AND PEOPLE WHOSE INCOME IN THE PAST 12 MONTHS IS BELOW THE POVERTY LEVEL!!All families\n",
        "                 'DP04_0001E': 'total_housing_units', #Estimate!!HOUSING OCCUPANCY!!Total housing units\n",
        "                 'DP04_0002E': 'occ_hu_occupied', #Estimate!!HOUSING OCCUPANCY!!Total housing units!!Occupied housing units\n",
        "                 'DP04_0003E': 'occ_hu_vacant', #Estimate!!HOUSING OCCUPANCY!!Total housing units!!Vacant housing units\n",
        "                 'DP04_0004E': 'occ_hu_homeowner_vacancy_rate', #Estimate!!HOUSING OCCUPANCY!!Total housing units!!Homeowner vacancy rate\n",
        "                 'DP04_0007E': 'units_hu_1unit_detached', #Estimate!!UNITS IN STRUCTURE!!Total housing units!!1-unit, detached\n",
        "                 'DP04_0008E': 'units_hu_1unit_attached', #Estimate!!UNITS IN STRUCTURE!!Total housing units!!1-unit, attached\n",
        "                 'DP04_0009E': 'units_hu_2units', # Estimate!!UNITS IN STRUCTURE!!Total housing units!!2 units\n",
        "                 'DP04_0010E': 'units_hu_3to4units', # Estimate!!UNITS IN STRUCTURE!!Total housing units!!3 or 4 units\n",
        "                 'DP04_0011E': 'units_hu_5to9units', # Estimate!!UNITS IN STRUCTURE!!Total housing units!!5 to 9 units\n",
        "                 'DP04_0012E': 'units_hu_10to19units', # Estimate!!UNITS IN STRUCTURE!!Total housing units!!10 to 19 units\n",
        "                 'DP04_0013E': 'units_hu_20plusunits', # Estimate!!UNITS IN STRUCTURE!!Total housing units!!20 or more units\n",
        "                 'DP04_0014E': 'units_hu_mobilehome', # Estimate!!UNITS IN STRUCTURE!!Total housing units!!Mobile home\n",
        "                 'DP04_0080E': 'value_owner_occupied_units', # Estimate!!VALUE!!Owner-occupied units\n",
        "                 'DP04_0081E': 'value_oo_less50k', # Estimate!!VALUE!!Owner-occupied units!!Less than $50,000\n",
        "                 'DP04_0082E': 'value_oo_50k99k', # Estimate!!VALUE!!Owner-occupied units!!$50,000 to $99,999\n",
        "                 'DP04_0083E': 'value_oo_100k149k', # Estimate!!VALUE!!Owner-occupied units!!$100,000 to $149,999\n",
        "                 'DP04_0084E': 'value_oo_150k199k', # Estimate!!VALUE!!Owner-occupied units!!$150,000 to $199,999\n",
        "                 'DP04_0085E': 'value_oo_200k299k', # Estimate!!VALUE!!Owner-occupied units!!$200,000 to $299,999\n",
        "                 'DP04_0086E': 'value_oo_300k499k', # Estimate!!VALUE!!Owner-occupied units!!$300,000 to $499,999\n",
        "                 'DP04_0087E': 'value_oo_500k999k', # Estimate!!VALUE!!Owner-occupied units!!$500,000 to $999,999\n",
        "                 'DP04_0088E': 'value_oo_1mplus', # Estimate!!VALUE!!Owner-occupied units!!$1,000,000 or more\n",
        "                 'DP04_0089E': 'value_oo_median', # Estimate!!VALUE!!Owner-occupied units!!Median (dollars)\n",
        "                 'STATE': 'state',\n",
        "                 'COUNTY': 'county',\n",
        "                 'TRACT': 'tract'\n",
        "                }\n",
        "acs_vars = list(acs_vars_dict.keys())\n",
        "acs_names = list(acs_vars_dict.values())\n",
        "\n",
        "print(acs_vars)\n",
        "print(acs_names)"
      ],
      "metadata": {
        "id": "xN5lA1F-MDQ-"
      },
      "execution_count": null,
      "outputs": []
    },
    {
      "cell_type": "code",
      "source": [
        "# generating request for Census API call\n",
        "HOST = \"https://api.census.gov/data\"\n",
        "year = \"2020\"\n",
        "dataset = \"acs/acs5/profile\"\n",
        "base_url = \"/\".join([HOST, year, dataset])\n",
        "predicates = {}\n",
        "get_vars = str(','.join(acs_vars[:-3]))\n",
        "in_vars = [\"state:13\", \"county:067\"]\n",
        "predicates[\"get\"] = get_vars\n",
        "predicates[\"for\"] = \"tract:*\"\n",
        "predicates[\"in\"] = \"&in=\".join(in_vars)\n",
        "#predicates[\"key\"] = api_key\n",
        "r = requests.get(base_url, params=predicates)\n",
        "\n",
        "# putting api call results into data fram with formatted column names\n",
        "attr_df = pd.DataFrame(columns=acs_names, data=r.json()[1:])"
      ],
      "metadata": {
        "id": "UGrCJCTzNp1G"
      },
      "execution_count": null,
      "outputs": []
    },
    {
      "cell_type": "code",
      "source": [
        "# unzip GA Census Tracts shapefile zip in memory and save all files gis_layers/tract\n",
        "if not os.path.exists('gis_layers/tract/tl_2021_13_tract.shp'):\n",
        "    zipurl = 'https://www2.census.gov/geo/tiger/TIGER2021/TRACT/tl_2021_13_tract.zip'\n",
        "    with urlopen(zipurl) as tract_zipresp:\n",
        "        with ZipFile(BytesIO(tract_zipresp.read())) as zfile:\n",
        "            zfile.extractall('gis_layers/tract')"
      ],
      "metadata": {
        "id": "YQb0VG_FTVSC"
      },
      "execution_count": null,
      "outputs": []
    },
    {
      "cell_type": "code",
      "source": [
        "# Load tract geojson and filter to Cobb County\n",
        "df = gpd.read_file('gis_layers/tract/ga_tract.geojson')\n",
        "geo_df=df[df[\"COUNTYFP\"]=='067']"
      ],
      "metadata": {
        "id": "-Gfw1At8NqtH"
      },
      "execution_count": null,
      "outputs": []
    }
  ]
}